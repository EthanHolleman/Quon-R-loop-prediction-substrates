{
 "cells": [
  {
   "cell_type": "markdown",
   "id": "a4740cf5",
   "metadata": {},
   "source": [
    "# Sequence format\n",
    "\n",
    "Format and linearize bank sequences of interest to send to Quon lab for R-loop prediction calculations. Start of sequences need to be promoters and end at terminator sequences if present."
   ]
  },
  {
   "cell_type": "code",
   "execution_count": 145,
   "id": "4f519812",
   "metadata": {},
   "outputs": [],
   "source": [
    "from Bio import SeqIO\n",
    "from Bio.SeqRecord import SeqRecord\n",
    "from pathlib import Path\n",
    "from datetime import datetime"
   ]
  },
  {
   "cell_type": "markdown",
   "id": "e19e15e8",
   "metadata": {},
   "source": [
    "Class to linearize Genbank records with respect to the promoter and terminator if present. Start of sequence becomes the TSS and anything upstream of the TSS gets appended to the end of the sequence."
   ]
  },
  {
   "cell_type": "code",
   "execution_count": 151,
   "id": "90955df7",
   "metadata": {},
   "outputs": [],
   "source": [
    "class SeqFormater():\n",
    "    \n",
    "    def __init__(self, record, promoter_label, terminator_label=None):\n",
    "        self.record = record\n",
    "        self.promoter_label = promoter_label\n",
    "        self.terminator_label = terminator_label\n",
    "    \n",
    "    @property\n",
    "    def feature_labels(self):\n",
    "        return {f.qualifiers['label'][0]: f for f in self.record.features}\n",
    "    \n",
    "    @property\n",
    "    def promoter(self):\n",
    "        if self.promoter_label in self.feature_labels:\n",
    "            return self.feature_labels[self.promoter_label]\n",
    "        else:\n",
    "            raise ValueError\n",
    "    \n",
    "    @property\n",
    "    def terminator(self):\n",
    "        if self.terminator_label:\n",
    "\n",
    "            if self.terminator_label in self.feature_labels:\n",
    "                return self.feature_labels[self.terminator_label]\n",
    "            else:\n",
    "                raise ValueError\n",
    "        else:\n",
    "            return None\n",
    "        \n",
    "    def _linearize_with_respect_to_promoter(self):\n",
    "        promoter_start = int(self.promoter.location.start)\n",
    "        if self.terminator:\n",
    "            terminator_end = int(self.terminator.location.end)\n",
    "            sequence = self.record.seq[promoter_start:terminator_end]\n",
    "        else:\n",
    "            sequence = self.record.seq[promoter_start:] + self.record.seq[:promoter_start]\n",
    "        return sequence\n",
    "    \n",
    "    def to_linear_record(self):\n",
    "        return SeqRecord(\n",
    "            self._linearize_with_respect_to_promoter(),\n",
    "            self.record.name,\n",
    "            description=''\n",
    "        )"
   ]
  },
  {
   "cell_type": "markdown",
   "id": "10c31cc6",
   "metadata": {},
   "source": [
    "Define the promoter and terminators of each series of plasmids."
   ]
  },
  {
   "cell_type": "code",
   "execution_count": 144,
   "id": "f2b537b9",
   "metadata": {},
   "outputs": [],
   "source": [
    "input_params = {\n",
    "    'sequences/T7_initiation_series': ['T7 +1 Site'],\n",
    "    'sequences/T7_termination_series': ['T7\\\\+1\\\\Site'],\n",
    "    'sequences/Tac_termination_series': ['tac\\\\promoter', 'T1T2\\\\terminators'],\n",
    "    'sequences/Tac_initiation_series': ['tac\\\\promoter', 'T1T2\\\\terminators'],\n",
    "}"
   ]
  },
  {
   "cell_type": "code",
   "execution_count": 152,
   "id": "d1b3b546",
   "metadata": {},
   "outputs": [],
   "source": [
    "linearized_records = []\n",
    "\n",
    "for each_input in input_params:\n",
    "    path = Path(each_input)\n",
    "    \n",
    "    if path.is_dir():  # get all files in the directory\n",
    "        for each_file in path.iterdir():\n",
    "            if each_file.suffix == '.gb':\n",
    "                record = SeqIO.read(each_file, 'genbank')\n",
    "                linearized_records.append(\n",
    "                    SeqFormater(record, *input_params[each_input]).to_linear_record()\n",
    "                )\n",
    "    else:\n",
    "        record = SeqIO.parse(each_input, 'genbank')\n",
    "        linearized_records.append(\n",
    "            SeqFormater(record, *input_params[each_input])\n",
    "        )"
   ]
  },
  {
   "cell_type": "markdown",
   "id": "cb0220d7",
   "metadata": {},
   "source": [
    "Write linearized records to fasta file."
   ]
  },
  {
   "cell_type": "code",
   "execution_count": 153,
   "id": "d8cc3d99",
   "metadata": {},
   "outputs": [
    {
     "data": {
      "text/plain": [
       "124"
      ]
     },
     "execution_count": 153,
     "metadata": {},
     "output_type": "execute_result"
    }
   ],
   "source": [
    "output_file = f'linearized_plasmids_{datetime.now().strftime(\"%m-%d-%Y\")}.fa'\n",
    "SeqIO.write(linearized_records, output_file, 'fasta')"
   ]
  },
  {
   "cell_type": "code",
   "execution_count": 155,
   "id": "475b254a",
   "metadata": {},
   "outputs": [
    {
     "name": "stdout",
     "output_type": "stream",
     "text": [
      "3322 T7_init_VR-6.ins\n",
      "3322 T7_init_VR-28.in\n",
      "3322 T7_init_VR-22.in\n",
      "3322 T7_init_VR-23.in\n",
      "3322 T7_init_VR-19.in\n",
      "3322 T7_init_VR-7.ins\n",
      "3322 T7_init_VR-31.in\n",
      "3322 T7_init_VR-10.in\n",
      "3322 T7_init_VR-15.in\n",
      "3322 T7_init_VR-1.ins\n",
      "3322 T7_init_VR-16.in\n",
      "3322 T7_init_VR-3.ins\n",
      "3322 T7_init_VR-29.in\n",
      "3322 T7_init_VR-4.ins\n",
      "3322 T7_init_VR-9.ins\n",
      "3322 T7_init_VR-20.in\n",
      "3322 T7_init_VR-11.in\n",
      "3322 T7_init_VR-26.in\n",
      "3322 T7_init_VR-17.in\n",
      "3322 T7_init_VR-24.in\n",
      "3322 T7_init_VR-21.in\n",
      "3322 T7_init_VR-14.in\n",
      "3322 T7_init_VR-18.in\n",
      "3322 T7_init_VR-27.in\n",
      "3322 T7_init_VR-25.in\n",
      "3322 T7_init_VR-2.ins\n",
      "3322 T7_init_VR-5.ins\n",
      "3322 T7_init_VR-12.in\n",
      "3322 T7_init_VR-13.in\n",
      "3322 T7_init_VR-8.ins\n",
      "3322 T7_init_VR-30.in\n",
      "3039 T7_term_VR-10.in\n",
      "3039 T7_term_VR-21.in\n",
      "3039 T7_term_VR-22.in\n",
      "3039 T7_term_VR-17.in\n",
      "3039 T7_term_VR-24.in\n",
      "3039 T7_term_VR-14.in\n",
      "3039 T7_term_VR-2.ins\n",
      "3039 T7_term_VR-11.in\n",
      "3039 T7_term_VR-23.in\n",
      "3039 T7_term_VR-26.in\n",
      "3039 T7_term_VR-30.in\n",
      "3039 T7_term_VR-19.in\n",
      "3039 T7_term_VR-18.in\n",
      "3039 T7_term_VR-25.in\n",
      "3039 T7_term_VR-15.in\n",
      "3039 T7_term_VR-13.in\n",
      "3039 T7_term_VR-27.in\n",
      "3039 T7_term_VR-28.in\n",
      "3039 T7_term_VR-3.ins\n",
      "3039 T7_term_VR-7.ins\n",
      "3039 T7_term_VR-1.ins\n",
      "3039 T7_term_VR-29.in\n",
      "3039 T7_term_VR-6.ins\n",
      "3039 T7_term_VR-12.in\n",
      "3039 T7_term_VR-8.ins\n",
      "3039 T7_term_VR-20.in\n",
      "3039 T7_term_VR-5.ins\n",
      "3039 T7_term_VR-4.ins\n",
      "3039 T7_term_VR-31.in\n",
      "3039 T7_term_VR-16.in\n",
      "3039 T7_term_VR-9.ins\n",
      "2933 tac_term_T7_term\n",
      "2933 tac_term_T7_term\n",
      "2933 tac_term_T7_term\n",
      "2933 tac_term_T7_term\n",
      "2933 tac_term_T7_term\n",
      "2933 tac_term_T7_term\n",
      "2933 tac_term_T7_term\n",
      "2933 tac_term_T7_term\n",
      "2933 tac_term_T7_term\n",
      "2933 tac_term_T7_term\n",
      "2933 tac_term_T7_term\n",
      "2933 tac_term_T7_term\n",
      "2933 tac_term_T7_term\n",
      "2933 tac_term_T7_term\n",
      "2933 tac_term_T7_term\n",
      "2933 tac_term_T7_term\n",
      "2933 tac_term_T7_term\n",
      "2933 tac_term_T7_term\n",
      "2933 tac_term_T7_term\n",
      "2933 tac_term_T7_term\n",
      "2933 tac_term_T7_term\n",
      "2933 tac_term_T7_term\n",
      "2933 tac_term_T7_term\n",
      "2933 tac_term_T7_term\n",
      "2933 tac_term_T7_term\n",
      "2933 tac_term_T7_term\n",
      "2933 tac_term_T7_term\n",
      "2933 tac_term_T7_term\n",
      "2933 tac_term_T7_term\n",
      "2933 tac_term_T7_term\n",
      "2933 tac_term_T7_term\n",
      "2933 tac_init_T7_init\n",
      "2933 tac_init_T7_init\n",
      "2933 tac_init_T7_init\n",
      "2933 tac_init_T7_init\n",
      "2933 tac_init_T7_init\n",
      "2933 tac_init_T7_init\n",
      "2933 tac_init_T7_init\n",
      "2933 tac_init_T7_init\n",
      "2933 tac_init_T7_init\n",
      "2933 tac_init_T7_init\n",
      "2933 tac_init_T7_init\n",
      "2933 tac_init_T7_init\n",
      "2933 tac_init_T7_init\n",
      "2933 tac_init_T7_init\n",
      "2933 tac_init_T7_init\n",
      "2933 tac_init_T7_init\n",
      "2933 tac_init_T7_init\n",
      "2933 tac_init_T7_init\n",
      "2933 tac_init_T7_init\n",
      "2933 tac_init_T7_init\n",
      "2933 tac_init_T7_init\n",
      "2933 tac_init_T7_init\n",
      "2933 tac_init_T7_init\n",
      "2933 tac_init_T7_init\n",
      "2933 tac_init_T7_init\n",
      "2933 tac_init_T7_init\n",
      "2933 tac_init_T7_init\n",
      "2933 tac_init_T7_init\n",
      "2933 tac_init_T7_init\n",
      "2933 tac_init_T7_init\n",
      "2933 tac_init_T7_init\n"
     ]
    }
   ],
   "source": [
    "for r in linearized_records:\n",
    "    print(len(r.seq), r.id)"
   ]
  },
  {
   "cell_type": "code",
   "execution_count": 156,
   "id": "999dbba8",
   "metadata": {},
   "outputs": [],
   "source": [
    "y = '/home/ethan/Documents/predict-seqs/sequences/Tac_termination_series/tac_term_T7_term_VR-1.gb'\n",
    "y1 = SeqIO.read(y, 'genbank')"
   ]
  },
  {
   "cell_type": "code",
   "execution_count": 162,
   "id": "d855ed50",
   "metadata": {},
   "outputs": [
    {
     "data": {
      "text/plain": [
       "[SeqFeature(FeatureLocation(ExactPosition(5), ExactPosition(34), strand=-1), type='promoter'),\n",
       " SeqFeature(FeatureLocation(ExactPosition(535), ExactPosition(541), strand=1), type='misc_feature'),\n",
       " SeqFeature(FeatureLocation(ExactPosition(1044), ExactPosition(1877), strand=-1), type='CDS'),\n",
       " SeqFeature(FeatureLocation(ExactPosition(1781), ExactPosition(1787), strand=1), type='misc_feature'),\n",
       " SeqFeature(FeatureLocation(ExactPosition(2566), ExactPosition(2938), strand=-1), type='terminator'),\n",
       " SeqFeature(FeatureLocation(ExactPosition(2944), ExactPosition(2959), strand=1), type='CDS'),\n",
       " SeqFeature(FeatureLocation(ExactPosition(2944), ExactPosition(2959), strand=1), type='primer_bind'),\n",
       " SeqFeature(FeatureLocation(ExactPosition(2959), ExactPosition(3159), strand=1), type='CDS'),\n",
       " SeqFeature(FeatureLocation(ExactPosition(3169), ExactPosition(3369), strand=-1), type='misc'),\n",
       " SeqFeature(FeatureLocation(ExactPosition(3349), ExactPosition(3369), strand=-1), type='primer_bind')]"
      ]
     },
     "execution_count": 162,
     "metadata": {},
     "output_type": "execute_result"
    }
   ],
   "source": [
    "y1.features."
   ]
  },
  {
   "cell_type": "code",
   "execution_count": 167,
   "id": "cc0c8db6",
   "metadata": {},
   "outputs": [
    {
     "data": {
      "text/plain": [
       "''"
      ]
     },
     "execution_count": 167,
     "metadata": {},
     "output_type": "execute_result"
    }
   ],
   "source": [
    "str(y1.seq[2938:34])"
   ]
  },
  {
   "cell_type": "code",
   "execution_count": 169,
   "id": "57c22623",
   "metadata": {},
   "outputs": [
    {
     "data": {
      "text/plain": [
       "[0, 1, 2, 3, 4, 5, 6, 7, 8, 9]"
      ]
     },
     "execution_count": 169,
     "metadata": {},
     "output_type": "execute_result"
    }
   ],
   "source": [
    "l = list(range(10))\n",
    "l"
   ]
  },
  {
   "cell_type": "code",
   "execution_count": 182,
   "id": "eea24368",
   "metadata": {
    "scrolled": true
   },
   "outputs": [
    {
     "data": {
      "text/plain": [
       "ExactPosition(5)"
      ]
     },
     "execution_count": 182,
     "metadata": {},
     "output_type": "execute_result"
    }
   ],
   "source": [
    "y1.features[0].location.start"
   ]
  },
  {
   "cell_type": "code",
   "execution_count": null,
   "id": "99819b5f",
   "metadata": {},
   "outputs": [],
   "source": [
    "def seq_linked_list(seq):\n",
    "    \n",
    "    linked = {}\n",
    "    "
   ]
  },
  {
   "cell_type": "code",
   "execution_count": 188,
   "id": "9a7e2feb",
   "metadata": {},
   "outputs": [
    {
     "data": {
      "text/plain": [
       "[SeqFeature(FeatureLocation(ExactPosition(5), ExactPosition(34), strand=-1), type='promoter'),\n",
       " SeqFeature(FeatureLocation(ExactPosition(535), ExactPosition(541), strand=1), type='misc_feature'),\n",
       " SeqFeature(FeatureLocation(ExactPosition(1044), ExactPosition(1877), strand=-1), type='CDS'),\n",
       " SeqFeature(FeatureLocation(ExactPosition(1781), ExactPosition(1787), strand=1), type='misc_feature'),\n",
       " SeqFeature(FeatureLocation(ExactPosition(2566), ExactPosition(2938), strand=-1), type='terminator'),\n",
       " SeqFeature(FeatureLocation(ExactPosition(2944), ExactPosition(2959), strand=1), type='CDS'),\n",
       " SeqFeature(FeatureLocation(ExactPosition(2944), ExactPosition(2959), strand=1), type='primer_bind'),\n",
       " SeqFeature(FeatureLocation(ExactPosition(2959), ExactPosition(3159), strand=1), type='CDS'),\n",
       " SeqFeature(FeatureLocation(ExactPosition(3169), ExactPosition(3369), strand=-1), type='misc'),\n",
       " SeqFeature(FeatureLocation(ExactPosition(3349), ExactPosition(3369), strand=-1), type='primer_bind')]"
      ]
     },
     "execution_count": 188,
     "metadata": {},
     "output_type": "execute_result"
    }
   ],
   "source": [
    "y1.features"
   ]
  },
  {
   "cell_type": "code",
   "execution_count": 228,
   "id": "12cdbadd",
   "metadata": {},
   "outputs": [],
   "source": [
    "seq = 'ATG<------CATGGGTTGGGGCCCADSFADAFCADFASDFASDFASDFADFASFADSFSADF<t-------FFGFGFG'"
   ]
  },
  {
   "cell_type": "code",
   "execution_count": 229,
   "id": "964fbb8a",
   "metadata": {
    "scrolled": true
   },
   "outputs": [
    {
     "name": "stdout",
     "output_type": "stream",
     "text": [
      "<t-------FFGFGFATG<------C\n"
     ]
    }
   ],
   "source": [
    "p_end = 11\n",
    "p_start = 3\n",
    "t_s = 63\n",
    "if p_end - t_s > 0:\n",
    "    print(seq[t_s:p_end])\n",
    "else:\n",
    "    print(\n",
    "        seq[t_s:len(seq)-1]+seq[0:p_end]\n",
    "    )"
   ]
  },
  {
   "cell_type": "code",
   "execution_count": null,
   "id": "3ea80464",
   "metadata": {},
   "outputs": [],
   "source": []
  }
 ],
 "metadata": {
  "kernelspec": {
   "display_name": "Python 3",
   "language": "python",
   "name": "python3"
  },
  "language_info": {
   "codemirror_mode": {
    "name": "ipython",
    "version": 3
   },
   "file_extension": ".py",
   "mimetype": "text/x-python",
   "name": "python",
   "nbconvert_exporter": "python",
   "pygments_lexer": "ipython3",
   "version": "3.9.6"
  }
 },
 "nbformat": 4,
 "nbformat_minor": 5
}

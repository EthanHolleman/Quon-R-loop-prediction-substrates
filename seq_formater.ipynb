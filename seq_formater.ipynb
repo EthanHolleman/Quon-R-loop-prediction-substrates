{
 "cells": [
  {
   "cell_type": "markdown",
   "id": "a4740cf5",
   "metadata": {},
   "source": [
    "# Sequence format\n",
    "\n",
    "Format and linearize bank sequences of interest to send to Quon lab for R-loop prediction calculations. Start of sequences need to be promoters and end at terminator sequences if present."
   ]
  },
  {
   "cell_type": "code",
   "execution_count": 1,
   "id": "4f519812",
   "metadata": {},
   "outputs": [],
   "source": [
    "from Bio import SeqIO\n",
    "from Bio.SeqRecord import SeqRecord\n",
    "from Bio.SeqUtils.CheckSum import seguid\n",
    "from pathlib import Path\n",
    "from datetime import datetime\n",
    "\n",
    "current_date = datetime.today().strftime('%Y-%m-%d')"
   ]
  },
  {
   "cell_type": "markdown",
   "id": "e19e15e8",
   "metadata": {},
   "source": [
    "Class to linearize Genbank records with respect to the promoter and terminator if present. Start of sequence becomes the TSS and anything upstream of the TSS gets appended to the end of the sequence."
   ]
  },
  {
   "cell_type": "code",
   "execution_count": 2,
   "id": "90955df7",
   "metadata": {},
   "outputs": [],
   "source": [
    "class SeqFormater():\n",
    "    \n",
    "    def __init__(self, record, promoter_label, terminator_label=None):\n",
    "        self.record = record\n",
    "        self.promoter_label = promoter_label\n",
    "    \n",
    "    @property\n",
    "    def feature_labels(self):\n",
    "        features = {}\n",
    "        for f in self.record.features:\n",
    "            if 'label' in f.qualifiers:\n",
    "                features[f.qualifiers['label'][0]] = f\n",
    "        return features\n",
    "    \n",
    "    @property\n",
    "    def promoter(self):\n",
    "        if self.promoter_label in self.feature_labels:\n",
    "            return self.feature_labels[self.promoter_label]\n",
    "        else:\n",
    "            raise ValueError\n",
    "    \n",
    "    def _linearize_with_respect_to_promoter(self):\n",
    "        if self.promoter.strand == -1:\n",
    "            self.record = self.record.reverse_complement()\n",
    "        \n",
    "        promoter_start = int(self.promoter.location.start)\n",
    "        sequence = self.record.seq[promoter_start:] + self.record.seq[:promoter_start]\n",
    "        return sequence\n",
    "    \n",
    "    def to_transcribable_record(self):\n",
    "        return SeqRecord(\n",
    "            self._linearize_with_respect_to_promoter(),\n",
    "            f'{self.record.name}-{seguid(self.record.seq)}',\n",
    "            description=''\n",
    "        )"
   ]
  },
  {
   "cell_type": "markdown",
   "id": "10c31cc6",
   "metadata": {},
   "source": [
    "Define the promoter and terminators of each series of plasmids."
   ]
  },
  {
   "cell_type": "code",
   "execution_count": 3,
   "id": "d25356e5",
   "metadata": {},
   "outputs": [],
   "source": [
    "init_dir = 'sequences/T7_initiation_series'\n",
    "term_dir = 'sequences/T7_termination_series'\n",
    "pFC8 = 'sequences/pFC8.gb'\n",
    "pFC53 = 'sequences/pFC53.gb'"
   ]
  },
  {
   "cell_type": "code",
   "execution_count": 4,
   "id": "f2b537b9",
   "metadata": {},
   "outputs": [],
   "source": [
    "input_params = {\n",
    "    init_dir: ['T7 +1 Site'],\n",
    "    term_dir: ['T7\\\\+1\\\\Site'],\n",
    "    pFC8: ['T3\\\\promoter'],\n",
    "    pFC53: ['T3 Promoter']\n",
    "}"
   ]
  },
  {
   "cell_type": "code",
   "execution_count": 5,
   "id": "6e67b466",
   "metadata": {},
   "outputs": [],
   "source": [
    "def read_genbank_files(path, params_list):\n",
    "    formaters = []\n",
    "    path = Path(path)\n",
    "    if path.is_dir():\n",
    "        for each_file in path.iterdir():\n",
    "            if each_file.suffix == '.gb':\n",
    "                record = SeqIO.read(each_file, 'genbank')\n",
    "                formaters.append(\n",
    "                        SeqFormater(record, *params_list)\n",
    "                )\n",
    "    else:\n",
    "        record = SeqIO.read(path, 'genbank')\n",
    "        formaters.append(\n",
    "            SeqFormater(record, *params_list)\n",
    "        )\n",
    "    return formaters"
   ]
  },
  {
   "cell_type": "code",
   "execution_count": 6,
   "id": "37997005",
   "metadata": {},
   "outputs": [
    {
     "name": "stderr",
     "output_type": "stream",
     "text": [
      "/home/ethan/anaconda3/envs/Bio/lib/python3.9/site-packages/Bio/GenBank/Scanner.py:1529: BiopythonParserWarning: Attempting to parse malformed locus line:\n",
      "'LOCUS       Exported                3993 bp DNA     circular SYN 06-NOV-2017\\n'\n",
      "Found locus 'Exported' size '3993' residue_type 'DNA'\n",
      "Some fields may be wrong.\n",
      "  warnings.warn(\n"
     ]
    }
   ],
   "source": [
    "init_formaters = read_genbank_files(init_dir, input_params[init_dir])\n",
    "term_formaters = read_genbank_files(term_dir, input_params[term_dir])\n",
    "other_formaters = read_genbank_files(pFC8, input_params[pFC8]) + read_genbank_files(pFC53, input_params[pFC53])"
   ]
  },
  {
   "cell_type": "code",
   "execution_count": 7,
   "id": "14cfd96f",
   "metadata": {},
   "outputs": [],
   "source": [
    "def get_all_variable_region_sequences(formaters):\n",
    "    var_regions = []\n",
    "    for each_form in formaters:\n",
    "        var_regions.append(each_form.feature_labels['Variable region'].extract(each_form.record))\n",
    "    return var_regions"
   ]
  },
  {
   "cell_type": "markdown",
   "id": "43ef2dcc",
   "metadata": {},
   "source": [
    "Currently we do not know which initiatior sequence will be used in the termination series. Therefore replace the placeholder in each plasmid with each of the VR inserts for the termination series in the function below."
   ]
  },
  {
   "cell_type": "code",
   "execution_count": 8,
   "id": "8a370b0b",
   "metadata": {},
   "outputs": [],
   "source": [
    "def permute_strong_inits(t7_term_formaters):\n",
    "    variable_regions = get_all_variable_region_sequences(t7_term_formaters)\n",
    "    records = [f.record for f in t7_term_formaters]\n",
    "    permuted = []\n",
    "    for each_form in t7_term_formaters:\n",
    "        s = each_form.feature_labels['Placeholder strong initiator'].location.start.position\n",
    "        e = each_form.feature_labels['Placeholder strong initiator'].location.end.position\n",
    "        for each_vr in variable_regions:\n",
    "            temp_seq = each_form.record.seq[:s] + each_vr.seq + each_form.record.seq[e:]\n",
    "            each_form.record.seq = temp_seq\n",
    "            permuted.append(each_form.to_transcribable_record())\n",
    "    return permuted"
   ]
  },
  {
   "cell_type": "code",
   "execution_count": 9,
   "id": "e331d73c",
   "metadata": {},
   "outputs": [
    {
     "data": {
      "text/plain": [
       "961"
      ]
     },
     "execution_count": 9,
     "metadata": {},
     "output_type": "execute_result"
    }
   ],
   "source": [
    "term_series_records = permute_strong_inits(term_formaters)\n",
    "len(term_series_records)"
   ]
  },
  {
   "cell_type": "code",
   "execution_count": 10,
   "id": "c329b1e4",
   "metadata": {
    "scrolled": true
   },
   "outputs": [
    {
     "data": {
      "text/plain": [
       "31"
      ]
     },
     "execution_count": 10,
     "metadata": {},
     "output_type": "execute_result"
    }
   ],
   "source": [
    "init_series_records = [f.to_transcribable_record() for f in init_formaters]\n",
    "len(init_series_records)"
   ]
  },
  {
   "cell_type": "code",
   "execution_count": 11,
   "id": "661744b7",
   "metadata": {
    "scrolled": true
   },
   "outputs": [],
   "source": [
    "others = [f.to_transcribable_record() for f in other_formaters]"
   ]
  },
  {
   "cell_type": "markdown",
   "id": "b8ce25ac",
   "metadata": {},
   "source": [
    "Combine both series into a one list and write all included sequences to a fasta file."
   ]
  },
  {
   "cell_type": "code",
   "execution_count": 12,
   "id": "c9603282",
   "metadata": {
    "scrolled": true
   },
   "outputs": [
    {
     "data": {
      "text/plain": [
       "994"
      ]
     },
     "execution_count": 12,
     "metadata": {},
     "output_type": "execute_result"
    }
   ],
   "source": [
    "all_records = term_series_records + init_series_records + others\n",
    "SeqIO.write(all_records, f'prediction_substrates_{current_date}.fa', 'fasta')"
   ]
  }
 ],
 "metadata": {
  "kernelspec": {
   "display_name": "Python 3",
   "language": "python",
   "name": "python3"
  },
  "language_info": {
   "codemirror_mode": {
    "name": "ipython",
    "version": 3
   },
   "file_extension": ".py",
   "mimetype": "text/x-python",
   "name": "python",
   "nbconvert_exporter": "python",
   "pygments_lexer": "ipython3",
   "version": "3.9.6"
  }
 },
 "nbformat": 4,
 "nbformat_minor": 5
}

{
 "cells": [
  {
   "cell_type": "code",
   "execution_count": 6,
   "id": "aeaf6d4d",
   "metadata": {},
   "outputs": [],
   "source": [
    "import pandas as pd\n",
    "from pathlib import Path\n",
    "from Bio import SeqIO\n",
    "from dna_features_viewer import GraphicFeature, GraphicRecord"
   ]
  },
  {
   "cell_type": "markdown",
   "id": "2a41d0f8",
   "metadata": {},
   "source": [
    "Functions for reading sequence data"
   ]
  },
  {
   "cell_type": "code",
   "execution_count": 33,
   "id": "9864fb50",
   "metadata": {},
   "outputs": [],
   "source": [
    "def recursive_seq_read(path):\n",
    "    for thing in Path(path).iterdir():\n",
    "        if thing.is_dir():\n",
    "            recursive_seq_read(thing)\n",
    "        else:\n",
    "            try:\n",
    "                yield seq_read(thing)\n",
    "            except ValueError:\n",
    "                # print(f'Could not read {thing}')\n",
    "                pass\n",
    "            \n",
    "def seq_read(filepath):\n",
    "    common_suffi = {\n",
    "        '.fa': 'fasta'\n",
    "    }\n",
    "    fp = Path(filepath)\n",
    "    if fp.suffix in common_suffi:\n",
    "        record_format = common_suffi[fp.suffix]\n",
    "    else:\n",
    "        record_format = fp.suffix[1:]  # use file suffix without . for type\n",
    "    \n",
    "    return SeqIO.parse(str(fp), record_format)  "
   ]
  },
  {
   "cell_type": "markdown",
   "id": "94d7b100",
   "metadata": {},
   "source": [
    "Read Albert's predictions."
   ]
  },
  {
   "cell_type": "code",
   "execution_count": 34,
   "id": "d379e017",
   "metadata": {},
   "outputs": [],
   "source": [
    "NEG_PRED_PATH = 'albertPredict/negative_predictions_ethan.csv'\n",
    "POS_PRED_PATH = 'albertPredict/positive_predictions_ethan.csv'"
   ]
  },
  {
   "cell_type": "code",
   "execution_count": 24,
   "id": "75e63010",
   "metadata": {},
   "outputs": [],
   "source": [
    "pos_strand_pred, neg_strand_pred = pd.read_csv(POS_PRED_PATH), pd.read_csv(NEG_PRED_PATH)"
   ]
  },
  {
   "cell_type": "markdown",
   "id": "c7ad441f",
   "metadata": {},
   "source": [
    "## T7 initiation series predictions"
   ]
  },
  {
   "cell_type": "markdown",
   "id": "97be341c",
   "metadata": {},
   "source": [
    "Pull out T7 initiation series rows."
   ]
  },
  {
   "cell_type": "code",
   "execution_count": 27,
   "id": "a7e4e197",
   "metadata": {},
   "outputs": [
    {
     "data": {
      "text/html": [
       "<div>\n",
       "<style scoped>\n",
       "    .dataframe tbody tr th:only-of-type {\n",
       "        vertical-align: middle;\n",
       "    }\n",
       "\n",
       "    .dataframe tbody tr th {\n",
       "        vertical-align: top;\n",
       "    }\n",
       "\n",
       "    .dataframe thead th {\n",
       "        text-align: right;\n",
       "    }\n",
       "</style>\n",
       "<table border=\"1\" class=\"dataframe\">\n",
       "  <thead>\n",
       "    <tr style=\"text-align: right;\">\n",
       "      <th></th>\n",
       "      <th>name</th>\n",
       "      <th>cluster</th>\n",
       "      <th>0</th>\n",
       "      <th>1</th>\n",
       "      <th>2</th>\n",
       "      <th>3</th>\n",
       "      <th>4</th>\n",
       "      <th>5</th>\n",
       "      <th>6</th>\n",
       "      <th>7</th>\n",
       "      <th>...</th>\n",
       "      <th>3029</th>\n",
       "      <th>3030</th>\n",
       "      <th>3031</th>\n",
       "      <th>3032</th>\n",
       "      <th>3033</th>\n",
       "      <th>3034</th>\n",
       "      <th>3035</th>\n",
       "      <th>3036</th>\n",
       "      <th>3037</th>\n",
       "      <th>3038</th>\n",
       "    </tr>\n",
       "  </thead>\n",
       "  <tbody>\n",
       "  </tbody>\n",
       "</table>\n",
       "<p>0 rows × 3041 columns</p>\n",
       "</div>"
      ],
      "text/plain": [
       "Empty DataFrame\n",
       "Columns: [name, cluster, 0, 1, 2, 3, 4, 5, 6, 7, 8, 9, 10, 11, 12, 13, 14, 15, 16, 17, 18, 19, 20, 21, 22, 23, 24, 25, 26, 27, 28, 29, 30, 31, 32, 33, 34, 35, 36, 37, 38, 39, 40, 41, 42, 43, 44, 45, 46, 47, 48, 49, 50, 51, 52, 53, 54, 55, 56, 57, 58, 59, 60, 61, 62, 63, 64, 65, 66, 67, 68, 69, 70, 71, 72, 73, 74, 75, 76, 77, 78, 79, 80, 81, 82, 83, 84, 85, 86, 87, 88, 89, 90, 91, 92, 93, 94, 95, 96, 97, ...]\n",
       "Index: []\n",
       "\n",
       "[0 rows x 3041 columns]"
      ]
     },
     "execution_count": 27,
     "metadata": {},
     "output_type": "execute_result"
    }
   ],
   "source": [
    "def get_t7_init_pred(df):\n",
    "    return df[df['name'].str.contains('T7_init')]\n",
    "\n",
    "t7_init_pos = get_t7_init_pred(pos_strand_pred)\n",
    "t7_init_pos"
   ]
  },
  {
   "cell_type": "markdown",
   "id": "9a77f2ef",
   "metadata": {},
   "source": [
    "Hmm, maybe there are missing sequences?"
   ]
  },
  {
   "cell_type": "code",
   "execution_count": 35,
   "id": "abc353d7",
   "metadata": {},
   "outputs": [
    {
     "name": "stdout",
     "output_type": "stream",
     "text": [
      "(961, 3041)\n",
      "(961, 3041)\n"
     ]
    }
   ],
   "source": [
    "print(pos_strand_pred.shape)\n",
    "print(neg_strand_pred.shape)"
   ]
  },
  {
   "cell_type": "markdown",
   "id": "4f50180b",
   "metadata": {},
   "source": [
    "Check number of sequences in the substrate file I sent."
   ]
  },
  {
   "cell_type": "code",
   "execution_count": 37,
   "id": "f249155b",
   "metadata": {},
   "outputs": [
    {
     "data": {
      "text/plain": [
       "994"
      ]
     },
     "execution_count": 37,
     "metadata": {},
     "output_type": "execute_result"
    }
   ],
   "source": [
    "len(list(seq_read('prediction_substrates_2021-11-14.fa')))"
   ]
  },
  {
   "cell_type": "code",
   "execution_count": 39,
   "id": "3cf08807",
   "metadata": {},
   "outputs": [
    {
     "data": {
      "text/plain": [
       "33"
      ]
     },
     "execution_count": 39,
     "metadata": {},
     "output_type": "execute_result"
    }
   ],
   "source": [
    "994-961"
   ]
  },
  {
   "cell_type": "markdown",
   "id": "9244587a",
   "metadata": {},
   "source": [
    "Does look like some are missing, maybe not included becuase these are different in length?"
   ]
  }
 ],
 "metadata": {
  "kernelspec": {
   "display_name": "Python 3",
   "language": "python",
   "name": "python3"
  },
  "language_info": {
   "codemirror_mode": {
    "name": "ipython",
    "version": 3
   },
   "file_extension": ".py",
   "mimetype": "text/x-python",
   "name": "python",
   "nbconvert_exporter": "python",
   "pygments_lexer": "ipython3",
   "version": "3.9.6"
  }
 },
 "nbformat": 4,
 "nbformat_minor": 5
}

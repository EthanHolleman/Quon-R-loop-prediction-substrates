{
 "cells": [
  {
   "cell_type": "code",
   "execution_count": 12,
   "id": "aeaf6d4d",
   "metadata": {},
   "outputs": [],
   "source": [
    "import pandas as pd\n",
    "from pathlib import Path\n",
    "from Bio import SeqIO\n",
    "import seaborn as sns\n",
    "from dna_features_viewer import GraphicFeature, GraphicRecord"
   ]
  },
  {
   "cell_type": "markdown",
   "id": "2a41d0f8",
   "metadata": {},
   "source": [
    "Functions for reading sequence data"
   ]
  },
  {
   "cell_type": "code",
   "execution_count": 2,
   "id": "9864fb50",
   "metadata": {},
   "outputs": [],
   "source": [
    "def recursive_seq_read(path):\n",
    "    for thing in Path(path).iterdir():\n",
    "        if thing.is_dir():\n",
    "            recursive_seq_read(thing)\n",
    "        else:\n",
    "            try:\n",
    "                yield seq_read(thing)\n",
    "            except ValueError:\n",
    "                # print(f'Could not read {thing}')\n",
    "                pass\n",
    "            \n",
    "def seq_read(filepath):\n",
    "    common_suffi = {\n",
    "        '.fa': 'fasta'\n",
    "    }\n",
    "    fp = Path(filepath)\n",
    "    if fp.suffix in common_suffi:\n",
    "        record_format = common_suffi[fp.suffix]\n",
    "    else:\n",
    "        record_format = fp.suffix[1:]  # use file suffix without . for type\n",
    "    \n",
    "    return SeqIO.parse(str(fp), record_format)  "
   ]
  },
  {
   "cell_type": "markdown",
   "id": "94d7b100",
   "metadata": {},
   "source": [
    "Read Albert's predictions."
   ]
  },
  {
   "cell_type": "code",
   "execution_count": 3,
   "id": "d379e017",
   "metadata": {},
   "outputs": [],
   "source": [
    "NEG_PRED_PATH = 'albertPredict/negative_predictions_ethan.csv'\n",
    "POS_PRED_PATH = 'albertPredict/positive_predictions_ethan.csv'"
   ]
  },
  {
   "cell_type": "code",
   "execution_count": 4,
   "id": "75e63010",
   "metadata": {},
   "outputs": [],
   "source": [
    "pos_strand_pred, neg_strand_pred = pd.read_csv(POS_PRED_PATH), pd.read_csv(NEG_PRED_PATH)"
   ]
  },
  {
   "cell_type": "markdown",
   "id": "c7ad441f",
   "metadata": {},
   "source": [
    "## T7 initiation series predictions"
   ]
  },
  {
   "cell_type": "markdown",
   "id": "97be341c",
   "metadata": {},
   "source": [
    "Pull out T7 initiation series rows."
   ]
  },
  {
   "cell_type": "code",
   "execution_count": 5,
   "id": "a7e4e197",
   "metadata": {},
   "outputs": [
    {
     "data": {
      "text/html": [
       "<div>\n",
       "<style scoped>\n",
       "    .dataframe tbody tr th:only-of-type {\n",
       "        vertical-align: middle;\n",
       "    }\n",
       "\n",
       "    .dataframe tbody tr th {\n",
       "        vertical-align: top;\n",
       "    }\n",
       "\n",
       "    .dataframe thead th {\n",
       "        text-align: right;\n",
       "    }\n",
       "</style>\n",
       "<table border=\"1\" class=\"dataframe\">\n",
       "  <thead>\n",
       "    <tr style=\"text-align: right;\">\n",
       "      <th></th>\n",
       "      <th>name</th>\n",
       "      <th>cluster</th>\n",
       "      <th>0</th>\n",
       "      <th>1</th>\n",
       "      <th>2</th>\n",
       "      <th>3</th>\n",
       "      <th>4</th>\n",
       "      <th>5</th>\n",
       "      <th>6</th>\n",
       "      <th>7</th>\n",
       "      <th>...</th>\n",
       "      <th>3029</th>\n",
       "      <th>3030</th>\n",
       "      <th>3031</th>\n",
       "      <th>3032</th>\n",
       "      <th>3033</th>\n",
       "      <th>3034</th>\n",
       "      <th>3035</th>\n",
       "      <th>3036</th>\n",
       "      <th>3037</th>\n",
       "      <th>3038</th>\n",
       "    </tr>\n",
       "  </thead>\n",
       "  <tbody>\n",
       "  </tbody>\n",
       "</table>\n",
       "<p>0 rows × 3041 columns</p>\n",
       "</div>"
      ],
      "text/plain": [
       "Empty DataFrame\n",
       "Columns: [name, cluster, 0, 1, 2, 3, 4, 5, 6, 7, 8, 9, 10, 11, 12, 13, 14, 15, 16, 17, 18, 19, 20, 21, 22, 23, 24, 25, 26, 27, 28, 29, 30, 31, 32, 33, 34, 35, 36, 37, 38, 39, 40, 41, 42, 43, 44, 45, 46, 47, 48, 49, 50, 51, 52, 53, 54, 55, 56, 57, 58, 59, 60, 61, 62, 63, 64, 65, 66, 67, 68, 69, 70, 71, 72, 73, 74, 75, 76, 77, 78, 79, 80, 81, 82, 83, 84, 85, 86, 87, 88, 89, 90, 91, 92, 93, 94, 95, 96, 97, ...]\n",
       "Index: []\n",
       "\n",
       "[0 rows x 3041 columns]"
      ]
     },
     "execution_count": 5,
     "metadata": {},
     "output_type": "execute_result"
    }
   ],
   "source": [
    "def get_t7_init_pred(df):\n",
    "    return df[df['name'].str.contains('T7_init')]\n",
    "\n",
    "t7_init_pos = get_t7_init_pred(pos_strand_pred)\n",
    "t7_init_pos"
   ]
  },
  {
   "cell_type": "markdown",
   "id": "9a77f2ef",
   "metadata": {},
   "source": [
    "Hmm, maybe there are missing sequences?"
   ]
  },
  {
   "cell_type": "code",
   "execution_count": 6,
   "id": "abc353d7",
   "metadata": {},
   "outputs": [
    {
     "name": "stdout",
     "output_type": "stream",
     "text": [
      "(961, 3041)\n",
      "(961, 3041)\n"
     ]
    }
   ],
   "source": [
    "print(pos_strand_pred.shape)\n",
    "print(neg_strand_pred.shape)"
   ]
  },
  {
   "cell_type": "markdown",
   "id": "4f50180b",
   "metadata": {},
   "source": [
    "Check number of sequences in the substrate file I sent."
   ]
  },
  {
   "cell_type": "code",
   "execution_count": 7,
   "id": "f249155b",
   "metadata": {},
   "outputs": [
    {
     "data": {
      "text/plain": [
       "994"
      ]
     },
     "execution_count": 7,
     "metadata": {},
     "output_type": "execute_result"
    }
   ],
   "source": [
    "len(list(seq_read('prediction_substrates_2021-11-14.fa')))"
   ]
  },
  {
   "cell_type": "code",
   "execution_count": 8,
   "id": "3cf08807",
   "metadata": {},
   "outputs": [
    {
     "data": {
      "text/plain": [
       "33"
      ]
     },
     "execution_count": 8,
     "metadata": {},
     "output_type": "execute_result"
    }
   ],
   "source": [
    "994-961"
   ]
  },
  {
   "cell_type": "markdown",
   "id": "9244587a",
   "metadata": {},
   "source": [
    "Does look like some are missing, maybe not included becuase these are different in length?"
   ]
  },
  {
   "cell_type": "markdown",
   "id": "ab61bb33",
   "metadata": {},
   "source": [
    "## T7 termination series"
   ]
  },
  {
   "cell_type": "markdown",
   "id": "f0b07b54",
   "metadata": {},
   "source": [
    "### Where is probibility density in general along sequences?"
   ]
  },
  {
   "cell_type": "markdown",
   "id": "fc80dae0",
   "metadata": {},
   "source": [
    "First need to re-annotate fasta files with locations of important stuff, namely initiating insert, terminating insert."
   ]
  },
  {
   "cell_type": "markdown",
   "id": "e0f6493f",
   "metadata": {},
   "source": [
    "Initiation region starts 28 bp from start of sequence and ends at 228. Termination region starts 10 bp downstream (238 from start) and ends 200 bp away from that 438 from start. This is the same for all plasmids."
   ]
  },
  {
   "cell_type": "markdown",
   "id": "e6c76170",
   "metadata": {},
   "source": [
    "#### Make locations into features for plotting"
   ]
  },
  {
   "cell_type": "code",
   "execution_count": 40,
   "id": "c0060de9",
   "metadata": {},
   "outputs": [],
   "source": [
    "general_term_feats=[\n",
    "    GraphicFeature(start=28, end=228, strand=+1, color=\"#ffd700\",\n",
    "                   label=\"Init insert\"),\n",
    "    GraphicFeature(start=238, end=438, strand=-1, color=\"#ffcccc\",\n",
    "                   label=\"Term insert\"),\n",
    "    GraphicFeature(start=238+1057, end=238+1894, strand=-1, color='#cffccc',\n",
    "                  label=\"AMP\")\n",
    "]\n",
    "\n",
    "basic_term_map = GraphicRecord(sequence_length=pos_strand_pred.shape[-1], features=general_term_feats)"
   ]
  },
  {
   "cell_type": "code",
   "execution_count": 41,
   "id": "6c5dbd28",
   "metadata": {},
   "outputs": [
    {
     "data": {
      "text/plain": [
       "(<AxesSubplot:>,\n",
       " ({GF(Init insert, 28-228 (1)): 0,\n",
       "   GF(Term insert, 238-438 (-1)): 0,\n",
       "   GF(AMP, 1295-2132 (-1)): 0},\n",
       "  {GF(Init insert, 28-228 (1)): {'feature_y': 0, 'annotation_y': 2.0},\n",
       "   GF(Term insert, 238-438 (-1)): {'feature_y': 0, 'annotation_y': 1.0}}))"
      ]
     },
     "execution_count": 41,
     "metadata": {},
     "output_type": "execute_result"
    },
    {
     "data": {
      "image/png": "[encoded data removed]",
      "text/plain": [
       "<Figure size 576x158.4 with 1 Axes>"
      ]
     },
     "metadata": {},
     "output_type": "display_data"
    }
   ],
   "source": [
    "basic_term_map.plot(figure_width=8)"
   ]
  },
  {
   "cell_type": "code",
   "execution_count": 70,
   "id": "75c2745e",
   "metadata": {},
   "outputs": [],
   "source": [
    "import matplotlib.pyplot as plt\n",
    "import numpy as np"
   ]
  },
  {
   "cell_type": "code",
   "execution_count": 88,
   "id": "581dc6f3",
   "metadata": {},
   "outputs": [],
   "source": [
    "def cluster_average_over_plasmid_plot(graphicPlasmid, df):\n",
    "    # melt df to long\n",
    "    df_liquid = pd.melt(\n",
    "        df, id_vars=['name', 'cluster'], var_name='index', \n",
    "        value_name='prob'\n",
    "    )\n",
    "    # get number of clusters\n",
    "    num_clust = df_liquid['cluster'].max()+1\n",
    "    fig, subs = plt.subplots(\n",
    "        num_clust+1, 1, figsize=(12, 8), sharex=True\n",
    "    )\n",
    "    \n",
    "    pal = sns.color_palette(\"Dark2\")\n",
    "    pal_hex = pal.as_hex()\n",
    "    \n",
    "    for i in range(num_clust):\n",
    "        print(f'Plotting cluster {i}')\n",
    "        clust_values = df_liquid.loc[df_liquid['cluster'] == i]\n",
    "        print(clust_values.shape)\n",
    "        print(pal_hex[i])\n",
    "        sns.lineplot(\n",
    "            ax=subs[i+1], data=clust_values, x='index', \n",
    "            y='prob', color=pal_hex[i])\n",
    "        # set x ticks so not crazy dense\n",
    "        #subs[i+1].set_xticks(np.arange(0, clust_values.shape[-1]-1, 250))\n",
    "        subs[i+1].set(title=f'Cluster {i}')\n",
    "    \n",
    "    # plot plasmid map\n",
    "    basic_term_map.plot(ax=subs[0], with_ruler=False)\n",
    "    fig.tight_layout(pad=2.0)\n",
    "    \n",
    "    return fig, subs"
   ]
  },
  {
   "cell_type": "code",
   "execution_count": null,
   "id": "4b00b5e7",
   "metadata": {
    "scrolled": true
   },
   "outputs": [
    {
     "name": "stdout",
     "output_type": "stream",
     "text": [
      "Plotting cluster 0\n",
      "(522708, 4)\n",
      "#1b9e77\n",
      "Plotting cluster 1\n",
      "(820530, 4)\n",
      "#d95f02\n",
      "Plotting cluster 2\n",
      "(419382, 4)\n",
      "#7570b3\n",
      "Plotting cluster 3\n",
      "(501435, 4)\n",
      "#e7298a\n",
      "Plotting cluster 4\n",
      "(656424, 4)\n",
      "#66a61e\n"
     ]
    }
   ],
   "source": [
    "cluster_average_over_plasmid_plot(basic_term_map, pos_strand_pred)"
   ]
  },
  {
   "cell_type": "code",
   "execution_count": 34,
   "id": "63f7169b",
   "metadata": {},
   "outputs": [
    {
     "data": {
      "text/plain": [
       "[<matplotlib.axis.XTick at 0x7f93e147f160>,\n",
       " <matplotlib.axis.XTick at 0x7f93e147f820>,\n",
       " <matplotlib.axis.XTick at 0x7f93e1348fd0>,\n",
       " <matplotlib.axis.XTick at 0x7f93e0874040>,\n",
       " <matplotlib.axis.XTick at 0x7f93e0874940>,\n",
       " <matplotlib.axis.XTick at 0x7f93e087a3a0>,\n",
       " <matplotlib.axis.XTick at 0x7f93e087aa90>,\n",
       " <matplotlib.axis.XTick at 0x7f93e087abb0>,\n",
       " <matplotlib.axis.XTick at 0x7f93e08747c0>,\n",
       " <matplotlib.axis.XTick at 0x7f93e087f550>,\n",
       " <matplotlib.axis.XTick at 0x7f93e087ff70>,\n",
       " <matplotlib.axis.XTick at 0x7f93e08856a0>,\n",
       " <matplotlib.axis.XTick at 0x7f93e088b100>,\n",
       " <matplotlib.axis.XTick at 0x7f93e088b7f0>,\n",
       " <matplotlib.axis.XTick at 0x7f93e0885910>,\n",
       " <matplotlib.axis.XTick at 0x7f93e0870fa0>,\n",
       " <matplotlib.axis.XTick at 0x7f93e088b1c0>,\n",
       " <matplotlib.axis.XTick at 0x7f93e08906a0>,\n",
       " <matplotlib.axis.XTick at 0x7f93e0896100>,\n",
       " <matplotlib.axis.XTick at 0x7f93e08967f0>,\n",
       " <matplotlib.axis.XTick at 0x7f93e089b040>,\n",
       " <matplotlib.axis.XTick at 0x7f93e0896400>,\n",
       " <matplotlib.axis.XTick at 0x7f93e088b2e0>,\n",
       " <matplotlib.axis.XTick at 0x7f93e089b100>,\n",
       " <matplotlib.axis.XTick at 0x7f93e089bf70>,\n",
       " <matplotlib.axis.XTick at 0x7f93e08a2670>,\n",
       " <matplotlib.axis.XTick at 0x7f93e08a6100>,\n",
       " <matplotlib.axis.XTick at 0x7f93e08a67f0>,\n",
       " <matplotlib.axis.XTick at 0x7f93e08a2160>,\n",
       " <matplotlib.axis.XTick at 0x7f93e0890a00>,\n",
       " <matplotlib.axis.XTick at 0x7f93e08a6e20>]"
      ]
     },
     "execution_count": 34,
     "metadata": {},
     "output_type": "execute_result"
    },
    {
     "data": {
      "image/png": "[encoded data removed]",
      "text/plain": [
       "<Figure size 864x216 with 2 Axes>"
      ]
     },
     "metadata": {
      "needs_background": "light"
     },
     "output_type": "display_data"
    }
   ],
   "source": [
    "fig, (ax1, ax2) = plt.subplots(\n",
    "    2, 1, figsize=(12, 3), sharex=True, gridspec_kw={\"height_ratios\": [4, 1]}\n",
    ")\n",
    "\n",
    "basic_term_map.plot(ax=ax1, with_ruler=False)\n",
    "ax2 = sns.lineplot(data=clust_0, x='index', y='prob')\n",
    "ax2.set_xticks(np.arange(0, pos_strand_pred.shape[-1]-1, 250))"
   ]
  },
  {
   "cell_type": "code",
   "execution_count": 59,
   "id": "7f10384f",
   "metadata": {},
   "outputs": [
    {
     "data": {
      "text/plain": [
       "'#1b9e77'"
      ]
     },
     "execution_count": 59,
     "metadata": {},
     "output_type": "execute_result"
    }
   ],
   "source": [
    "pal = sns.color_palette(\"Dark2\")\n",
    "pal.as_hex()[0]"
   ]
  }
 ],
 "metadata": {
  "kernelspec": {
   "display_name": "Python 3",
   "language": "python",
   "name": "python3"
  },
  "language_info": {
   "codemirror_mode": {
    "name": "ipython",
    "version": 3
   },
   "file_extension": ".py",
   "mimetype": "text/x-python",
   "name": "python",
   "nbconvert_exporter": "python",
   "pygments_lexer": "ipython3",
   "version": "3.9.6"
  }
 },
 "nbformat": 4,
 "nbformat_minor": 5
}
